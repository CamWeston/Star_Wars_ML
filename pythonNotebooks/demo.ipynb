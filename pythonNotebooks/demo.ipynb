{
 "cells": [
  {
   "cell_type": "markdown",
   "metadata": {},
   "source": [
    "# Star Wars ML Model using SGD Classifier"
   ]
  },
  {
   "cell_type": "code",
   "execution_count": 12,
   "metadata": {},
   "outputs": [],
   "source": [
    "from sklearn.linear_model import SGDClassifier\n",
    "from sklearn.pipeline import Pipeline\n",
    "from sklearn.feature_extraction.text import CountVectorizer\n",
    "from sklearn.feature_extraction.text import TfidfVectorizer\n",
    "from sklearn.feature_extraction.text import TfidfTransformer\n",
    "import pandas as pd\n",
    "import numpy as np"
   ]
  },
  {
   "cell_type": "code",
   "execution_count": 13,
   "metadata": {},
   "outputs": [],
   "source": [
    "# Load in data\n",
    "data = pd.read_csv('sw_ml_optimal_data.csv')"
   ]
  },
  {
   "cell_type": "code",
   "execution_count": 14,
   "metadata": {},
   "outputs": [
    {
     "data": {
      "text/html": [
       "<div>\n",
       "<style scoped>\n",
       "    .dataframe tbody tr th:only-of-type {\n",
       "        vertical-align: middle;\n",
       "    }\n",
       "\n",
       "    .dataframe tbody tr th {\n",
       "        vertical-align: top;\n",
       "    }\n",
       "\n",
       "    .dataframe thead th {\n",
       "        text-align: right;\n",
       "    }\n",
       "</style>\n",
       "<table border=\"1\" class=\"dataframe\">\n",
       "  <thead>\n",
       "    <tr style=\"text-align: right;\">\n",
       "      <th></th>\n",
       "      <th>character</th>\n",
       "      <th>dialogue</th>\n",
       "    </tr>\n",
       "  </thead>\n",
       "  <tbody>\n",
       "    <tr>\n",
       "      <th>0</th>\n",
       "      <td>YODA</td>\n",
       "      <td>I do, yes, I do!  Sick have I become. Old and ...</td>\n",
       "    </tr>\n",
       "    <tr>\n",
       "      <th>1</th>\n",
       "      <td>LANDO</td>\n",
       "      <td>Han! Chewie?</td>\n",
       "    </tr>\n",
       "    <tr>\n",
       "      <th>2</th>\n",
       "      <td>LUKE</td>\n",
       "      <td>Stay tight and low.</td>\n",
       "    </tr>\n",
       "    <tr>\n",
       "      <th>3</th>\n",
       "      <td>LANDO</td>\n",
       "      <td>We're on our way. Red Group, Gold Group, all f...</td>\n",
       "    </tr>\n",
       "    <tr>\n",
       "      <th>4</th>\n",
       "      <td>HAN</td>\n",
       "      <td>I do, I really do. You could be a little nicer...</td>\n",
       "    </tr>\n",
       "    <tr>\n",
       "      <th>5</th>\n",
       "      <td>HAN</td>\n",
       "      <td>Wonderful girl!  Either I'm going to kill her ...</td>\n",
       "    </tr>\n",
       "    <tr>\n",
       "      <th>6</th>\n",
       "      <td>YODA</td>\n",
       "      <td>No! Try not. Do. Or do not. There is no try.</td>\n",
       "    </tr>\n",
       "    <tr>\n",
       "      <th>7</th>\n",
       "      <td>LUKE</td>\n",
       "      <td>Ask me again sometime.</td>\n",
       "    </tr>\n",
       "    <tr>\n",
       "      <th>8</th>\n",
       "      <td>LANDO</td>\n",
       "      <td>Leia! Go!</td>\n",
       "    </tr>\n",
       "    <tr>\n",
       "      <th>9</th>\n",
       "      <td>BEN</td>\n",
       "      <td>Oh, he's not dead, no... not yet.</td>\n",
       "    </tr>\n",
       "    <tr>\n",
       "      <th>10</th>\n",
       "      <td>HAN</td>\n",
       "      <td>Stay back.</td>\n",
       "    </tr>\n",
       "    <tr>\n",
       "      <th>11</th>\n",
       "      <td>LEIA</td>\n",
       "      <td>And then you're as good as gone, aren't you?</td>\n",
       "    </tr>\n",
       "    <tr>\n",
       "      <th>12</th>\n",
       "      <td>THREEPIO</td>\n",
       "      <td>Oh, uh, yes, uh, I am here, Your Worshipfulnes...</td>\n",
       "    </tr>\n",
       "    <tr>\n",
       "      <th>13</th>\n",
       "      <td>YODA</td>\n",
       "      <td>No more training do you require. Already know ...</td>\n",
       "    </tr>\n",
       "    <tr>\n",
       "      <th>14</th>\n",
       "      <td>LEIA</td>\n",
       "      <td>If your people fixed the hyperdrive.</td>\n",
       "    </tr>\n",
       "  </tbody>\n",
       "</table>\n",
       "</div>"
      ],
      "text/plain": [
       "   character                                           dialogue\n",
       "0       YODA  I do, yes, I do!  Sick have I become. Old and ...\n",
       "1      LANDO                                       Han! Chewie?\n",
       "2       LUKE                                Stay tight and low.\n",
       "3      LANDO  We're on our way. Red Group, Gold Group, all f...\n",
       "4        HAN  I do, I really do. You could be a little nicer...\n",
       "5        HAN  Wonderful girl!  Either I'm going to kill her ...\n",
       "6       YODA       No! Try not. Do. Or do not. There is no try.\n",
       "7       LUKE                             Ask me again sometime.\n",
       "8      LANDO                                          Leia! Go!\n",
       "9        BEN                  Oh, he's not dead, no... not yet.\n",
       "10       HAN                                         Stay back.\n",
       "11      LEIA       And then you're as good as gone, aren't you?\n",
       "12  THREEPIO  Oh, uh, yes, uh, I am here, Your Worshipfulnes...\n",
       "13      YODA  No more training do you require. Already know ...\n",
       "14      LEIA               If your people fixed the hyperdrive."
      ]
     },
     "execution_count": 14,
     "metadata": {},
     "output_type": "execute_result"
    }
   ],
   "source": [
    "# Print first 15 entries\n",
    "data.head(n=15)"
   ]
  },
  {
   "cell_type": "code",
   "execution_count": 15,
   "metadata": {},
   "outputs": [],
   "source": [
    "# Organize data\n",
    "train_data = data.loc[:1600]\n",
    "test_data = data.loc[1601:]\n",
    "train = train_data.groupby(['character'])['dialogue'].apply(lambda text: ''.join(text.to_string(index=False))).str.replace('(\\\\n)', '').reset_index()\n",
    "test = test_data.groupby(['character'])['dialogue'].apply(lambda text: ''.join(text.to_string(index=False))).str.replace('(\\\\n)', '').reset_index()"
   ]
  },
  {
   "cell_type": "code",
   "execution_count": 16,
   "metadata": {},
   "outputs": [
    {
     "data": {
      "text/html": [
       "<div>\n",
       "<style scoped>\n",
       "    .dataframe tbody tr th:only-of-type {\n",
       "        vertical-align: middle;\n",
       "    }\n",
       "\n",
       "    .dataframe tbody tr th {\n",
       "        vertical-align: top;\n",
       "    }\n",
       "\n",
       "    .dataframe thead th {\n",
       "        text-align: right;\n",
       "    }\n",
       "</style>\n",
       "<table border=\"1\" class=\"dataframe\">\n",
       "  <thead>\n",
       "    <tr style=\"text-align: right;\">\n",
       "      <th></th>\n",
       "      <th>character</th>\n",
       "      <th>dialogue</th>\n",
       "    </tr>\n",
       "  </thead>\n",
       "  <tbody>\n",
       "    <tr>\n",
       "      <th>0</th>\n",
       "      <td>BEN</td>\n",
       "      <td>Oh, he's not dead, no... not ...</td>\n",
       "    </tr>\n",
       "    <tr>\n",
       "      <th>1</th>\n",
       "      <td>HAN</td>\n",
       "      <td>I do, I really do. You could be a little nice...</td>\n",
       "    </tr>\n",
       "    <tr>\n",
       "      <th>2</th>\n",
       "      <td>LANDO</td>\n",
       "      <td>Han! Che...</td>\n",
       "    </tr>\n",
       "    <tr>\n",
       "      <th>3</th>\n",
       "      <td>LEIA</td>\n",
       "      <td>And then you're as good as gone, aren't ...</td>\n",
       "    </tr>\n",
       "    <tr>\n",
       "      <th>4</th>\n",
       "      <td>LUKE</td>\n",
       "      <td>Stay tight and ...</td>\n",
       "    </tr>\n",
       "    <tr>\n",
       "      <th>5</th>\n",
       "      <td>THREEPIO</td>\n",
       "      <td>Oh, uh, yes, uh, I am here, Your Worshipfulne...</td>\n",
       "    </tr>\n",
       "    <tr>\n",
       "      <th>6</th>\n",
       "      <td>VADER</td>\n",
       "      <td>No. I am your fat...</td>\n",
       "    </tr>\n",
       "    <tr>\n",
       "      <th>7</th>\n",
       "      <td>YODA</td>\n",
       "      <td>I do, yes, I do!  Sick have I become. Old and...</td>\n",
       "    </tr>\n",
       "  </tbody>\n",
       "</table>\n",
       "</div>"
      ],
      "text/plain": [
       "  character                                           dialogue\n",
       "0       BEN                   Oh, he's not dead, no... not ...\n",
       "1       HAN   I do, I really do. You could be a little nice...\n",
       "2     LANDO                                        Han! Che...\n",
       "3      LEIA        And then you're as good as gone, aren't ...\n",
       "4      LUKE                                 Stay tight and ...\n",
       "5  THREEPIO   Oh, uh, yes, uh, I am here, Your Worshipfulne...\n",
       "6     VADER                               No. I am your fat...\n",
       "7      YODA   I do, yes, I do!  Sick have I become. Old and..."
      ]
     },
     "execution_count": 16,
     "metadata": {},
     "output_type": "execute_result"
    }
   ],
   "source": [
    "# Print training data\n",
    "train"
   ]
  },
  {
   "cell_type": "code",
   "execution_count": 17,
   "metadata": {},
   "outputs": [
    {
     "data": {
      "text/html": [
       "<div>\n",
       "<style scoped>\n",
       "    .dataframe tbody tr th:only-of-type {\n",
       "        vertical-align: middle;\n",
       "    }\n",
       "\n",
       "    .dataframe tbody tr th {\n",
       "        vertical-align: top;\n",
       "    }\n",
       "\n",
       "    .dataframe thead th {\n",
       "        text-align: right;\n",
       "    }\n",
       "</style>\n",
       "<table border=\"1\" class=\"dataframe\">\n",
       "  <thead>\n",
       "    <tr style=\"text-align: right;\">\n",
       "      <th></th>\n",
       "      <th>character</th>\n",
       "      <th>dialogue</th>\n",
       "    </tr>\n",
       "  </thead>\n",
       "  <tbody>\n",
       "    <tr>\n",
       "      <th>0</th>\n",
       "      <td>BEN</td>\n",
       "      <td>Should I h...</td>\n",
       "    </tr>\n",
       "    <tr>\n",
       "      <th>1</th>\n",
       "      <td>HAN</td>\n",
       "      <td>Well, there's a price on my head. If I don't ...</td>\n",
       "    </tr>\n",
       "    <tr>\n",
       "      <th>2</th>\n",
       "      <td>LANDO</td>\n",
       "      <td>Hold it! W...</td>\n",
       "    </tr>\n",
       "    <tr>\n",
       "      <th>3</th>\n",
       "      <td>LEIA</td>\n",
       "      <td>And what precisely am I supposed to k...</td>\n",
       "    </tr>\n",
       "    <tr>\n",
       "      <th>4</th>\n",
       "      <td>LUKE</td>\n",
       "      <td>Hey, easy with thos...</td>\n",
       "    </tr>\n",
       "    <tr>\n",
       "      <th>5</th>\n",
       "      <td>THREEPIO</td>\n",
       "      <td>Oh, I'm terribly sorry. I...I didn't mean to ...</td>\n",
       "    </tr>\n",
       "    <tr>\n",
       "      <th>6</th>\n",
       "      <td>VADER</td>\n",
       "      <td>I sense something... a presence I haven't fel...</td>\n",
       "    </tr>\n",
       "    <tr>\n",
       "      <th>7</th>\n",
       "      <td>YODA</td>\n",
       "      <td>Unexpected this is, and unfortuna...</td>\n",
       "    </tr>\n",
       "  </tbody>\n",
       "</table>\n",
       "</div>"
      ],
      "text/plain": [
       "  character                                           dialogue\n",
       "0       BEN                                      Should I h...\n",
       "1       HAN   Well, there's a price on my head. If I don't ...\n",
       "2     LANDO                                      Hold it! W...\n",
       "3      LEIA           And what precisely am I supposed to k...\n",
       "4      LUKE                             Hey, easy with thos...\n",
       "5  THREEPIO   Oh, I'm terribly sorry. I...I didn't mean to ...\n",
       "6     VADER   I sense something... a presence I haven't fel...\n",
       "7      YODA               Unexpected this is, and unfortuna..."
      ]
     },
     "execution_count": 17,
     "metadata": {},
     "output_type": "execute_result"
    }
   ],
   "source": [
    "# Print test data\n",
    "test"
   ]
  },
  {
   "cell_type": "code",
   "execution_count": 18,
   "metadata": {},
   "outputs": [],
   "source": [
    "# Define model pipeline and fit data\n",
    "pipeline = Pipeline([('vect', CountVectorizer(stop_words='english')), ('tfidf', TfidfTransformer()), ('clf', SGDClassifier(loss='hinge', penalty='l2', alpha=1e-3, random_state=42, max_iter=5, tol=None)),])\n",
    "sgd = pipeline.fit(train.dialogue, train.character)"
   ]
  },
  {
   "cell_type": "code",
   "execution_count": 19,
   "metadata": {},
   "outputs": [],
   "source": [
    "# Predict test data\n",
    "sgd = pipeline.predict(test.dialogue)\n",
    "accuracy = np.mean(sgd == test.character)"
   ]
  },
  {
   "cell_type": "code",
   "execution_count": 20,
   "metadata": {},
   "outputs": [
    {
     "name": "stdout",
     "output_type": "stream",
     "text": [
      "Prediction           True Value\n",
      "BEN                  BEN\n",
      "HAN                  HAN\n",
      "LANDO                LANDO\n",
      "LEIA                 LEIA\n",
      "LUKE                 LUKE\n",
      "THREEPIO             THREEPIO\n",
      "VADER                VADER\n",
      "YODA                 YODA\n",
      "\n",
      "SGD Classifier Accuracy: 100.0%\n"
     ]
    }
   ],
   "source": [
    "# Predictions\n",
    "predictions = sgd\n",
    "actual_values = test.character\n",
    "print(\"{0:20s} {1}\".format(\"Prediction\", \"True Value\"))\n",
    "for x, y in zip(predictions, actual_values): \n",
    "    print(\"{0:20s} {1}\".format(x, y))\n",
    "print('\\nSGD Classifier Accuracy: {x}%'.format(x = accuracy*100))"
   ]
  },
  {
   "cell_type": "code",
   "execution_count": 21,
   "metadata": {},
   "outputs": [],
   "source": [
    "train.to_csv('sw_model_train_data.csv')\n",
    "test.to_csv('sw_model_test_data.csv')"
   ]
  },
  {
   "cell_type": "code",
   "execution_count": null,
   "metadata": {},
   "outputs": [],
   "source": []
  }
 ],
 "metadata": {
  "kernelspec": {
   "display_name": "Python 3",
   "language": "python",
   "name": "python3"
  },
  "language_info": {
   "codemirror_mode": {
    "name": "ipython",
    "version": 3
   },
   "file_extension": ".py",
   "mimetype": "text/x-python",
   "name": "python",
   "nbconvert_exporter": "python",
   "pygments_lexer": "ipython3",
   "version": "3.7.3"
  }
 },
 "nbformat": 4,
 "nbformat_minor": 4
}
